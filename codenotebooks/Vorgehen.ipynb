{
 "cells": [
  {
   "cell_type": "markdown",
   "id": "d491f221-b2ed-4754-89eb-0216ea6be3fa",
   "metadata": {},
   "source": [
    "# Vorgehen"
   ]
  },
  {
   "cell_type": "markdown",
   "id": "bdf066f8-ec32-4a99-b56d-2bc7550da2b7",
   "metadata": {},
   "source": [
    "## Themenwahl"
   ]
  },
  {
   "cell_type": "markdown",
   "id": "4c027c28-00d2-459c-9504-c80f48398e8a",
   "metadata": {},
   "source": [
    "Zu Beginn habe ich ein Thema finden müssen, dafür habe ich mir zunächst die Liste mit den verschiedenen Daten angesehen. Dabei fand ich insbesondere die Themen \"crime USA\", \"verschiedene Arten von Werbung\" und \"Pisa-Studie\" interessant. Nach einer eingehenden Untersuchung der verschiedenen Daten habe ich festgestellt, dass mich die \"crime statistik\" am meisten interessiert. Allerdings habe ich durch mein vorangegangenes Jurastudium bereits Wissen in Bezug auf das deutsche Strafrecht und in Baden-Württemberg gültige Polizeirecht. Des Weiteren habe ich in der Vorlesung \"Daten und Datenintegration\" mit der Kriminalstatistik des BKA gearbeitet. Dies hatte zur Folge, dass ich beschloß mein Projekt auf Grundlage der Daten aus den BKA-Statistiken aufzubauen. \n",
    "In einem nächsten Schritt stellte ich Überlegungen darüber an, in welche Richtung mein Projekt gehen sollte. Ich bin auf eine Kampagne der \"Kommission Polizeiliche Kriminalprävention\" (KPK) gestoßen. Dieses Präventionsprojekt ist \"soundswrong\", dabei geht es um die Verbreitung von Kinderpornografie durch Kinder und Jugendliche. In Folge dessen, ist mir aufgefallen, dass mir bis dahin nicht bewusst war, dass dieser Straftatbestand aktuell ein akutes Problem darstellt und es dabei zu einem Anstieg der Fälle gekommen ist.\n",
    "Dementsprechend sollen die Kampagnenspots in erster Linie dazuführen, dass Erwachsene auf die Problematik aufmerksam werden und Kinder dafür zu sensibilisieren, dass es ein Verbrechen ist.\n",
    "Dies hatte zur Folge, dass ich ein Projekt für die KPK machen wollte. Dafür war es nötig mich auf einen Straftatbestand zu beschränken, weil bei einem echten Projekt würde schließlich auch nicht ohne ein bestimmtes Thema gearbeitet werden. Da die jeweiligen Straftatbestände unterschiedliche Maßnahmen und Vorgehensweisen bei der Prävention erfordern. Schlussendlich habe ich mich für den Straftatbestand der unterlassenen Hilfeleistung und Behinderung hilfeleistender Personen gemäß § 323c StGB entschieden. Meine Wahl ist auf diesen Straftatbestand gefallen, weil es zu viele Menschen gibt, die nicht wissen, was darunter zu verstehen ist. Des Weiteren ist der Straftatbestand entwickelt worden, um die Solidarität zwischen Mitmenschen so zu fördern, dass diese sich in einer Notlage helfen. Abgesehen davon besteht auch eine persönliche Komponente meinerseits, da ich einige Jahre als Schulsanitäterin tätig war, deshalb weiß wie wichtig es ist Verletzten zu helfen und als hilfeleistende Person den nöigen Raum dafür zu haben."
   ]
  },
  {
   "cell_type": "markdown",
   "id": "622af635-0214-4635-8d4b-f287d2135e35",
   "metadata": {},
   "source": [
    "## Datenauswahl"
   ]
  },
  {
   "cell_type": "markdown",
   "id": "24b19bc0-34d4-4896-880b-8d466d6ce7fd",
   "metadata": {},
   "source": [
    "In diesem Schritt habe ich aus den Statistiken die Daten ausgewählt, die für mein Projekt zur unterlassenen Hilfeleistung relevant waren ausgewählt. Des Weiteren habe ich, um einen Vergleich herstellen zu können, die Daten zur Beförderungserschleichung gemäß § 265a StGB abgespeichert. Dabei handelt es sich um einen Straftatbestand gegen den stetig durch Präventionsmaßnahmen von Polizei und öffentlichem Nahverkehr vorgegangen wird. Des Weiteren ist in den letzten Jahren eine eindeutige Tendenz für einen Rückgang der Anzahl der Fälle erkennbar. Im Folgenden werde ich diese Tendenz hauptsächlich den Präventionsmaßnahmen zuschreiben. "
   ]
  },
  {
   "cell_type": "markdown",
   "id": "f257ac5d-c2e4-45ab-9a3a-5aae9f4b5f5b",
   "metadata": {},
   "source": [
    "## Darstellung der Daten"
   ]
  },
  {
   "cell_type": "markdown",
   "id": "554ebb4b-b152-4e35-af06-cf26b147d872",
   "metadata": {},
   "source": [
    "Ich habe verschiedene Möglichkeiten der Präsentation der Daten ausprobiert. Dabei habe ich durch Versuch und Irrtum entschieden, welche Darstellungen für meine Präsentation hilfreich sind und welche nicht. Bei der Präsentation sollten nur vier Diagramme auf dem Dashboard verwendet werden, um eine Überflutung zu vermeiden. Dies hat zur Folge, dass manche Diagramme zwar verwertbar wären, aber trotzdem die notwendige Beschränkung stattfindet.\n",
    "Die ursprünglich von mir geplante Kartendarstellung hat nach einigen Versuchen und vielen Anpassungen dann auch funktioniert. Des Weiteren habe ich auch noch eine Möglichkeit gefunden die verschiedenen Altersgruppen der Täter/innen darzustellen. Dadurch wird ermöglicht gezielte Präventionsmaßnahmen für die jeweiligen Altersgruppen zu bestimmen."
   ]
  },
  {
   "cell_type": "markdown",
   "id": "7986a3cc-cf6d-47a3-bf62-75962bb7a284",
   "metadata": {},
   "source": [
    "## Report"
   ]
  },
  {
   "cell_type": "markdown",
   "id": "41a00dd8-2fab-438b-b1bb-6b158c8732d2",
   "metadata": {},
   "source": [
    "Aufgrund der wissenschaftlicher Untersuchungen ist bekannt, dass in einem Report weniger tatsächliche Kontrolle besteht als in einem Vortrag, deshalb muss dort ein höheres Level an Detail geboten werden, damit auch Personen, die nicht beim Vortrag anwesend waren, die Inhalte und das Ziel verstehen und nachvollziehen können."
   ]
  },
  {
   "cell_type": "markdown",
   "id": "c6c2be10-1d1b-4dd2-a819-489b2606be00",
   "metadata": {},
   "source": [
    "## Präsentation"
   ]
  },
  {
   "cell_type": "markdown",
   "id": "6f3734cd-5157-420c-811a-532c7baed786",
   "metadata": {},
   "source": [
    "Ich habe mich gegen einen schwarzen Powerpointhintergrund, wie er in dem Video \"Death bei Powerpoint\" verwendet wurde, entschieden, weil dies in Folge des Logos und Internetauftritts der KPK wenig passend erscheint, da diese ein Farbschemata aus weiß und verschiedenen Blau- und Grautönen aufweist."
   ]
  },
  {
   "cell_type": "code",
   "execution_count": null,
   "id": "2d444404-5574-4843-a7e9-a3444c109543",
   "metadata": {},
   "outputs": [],
   "source": []
  }
 ],
 "metadata": {
  "kernelspec": {
   "display_name": "Python 3 (ipykernel)",
   "language": "python",
   "name": "python3"
  },
  "language_info": {
   "codemirror_mode": {
    "name": "ipython",
    "version": 3
   },
   "file_extension": ".py",
   "mimetype": "text/x-python",
   "name": "python",
   "nbconvert_exporter": "python",
   "pygments_lexer": "ipython3",
   "version": "3.8.11"
  }
 },
 "nbformat": 4,
 "nbformat_minor": 5
}
