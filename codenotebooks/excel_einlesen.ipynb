{
 "cells": [
  {
   "cell_type": "markdown",
   "id": "737cb956-1eaa-4ea0-b8a0-db8296028abe",
   "metadata": {},
   "source": [
    "# Datei importieren"
   ]
  },
  {
   "cell_type": "markdown",
   "id": "1960a3c6-c4f6-481a-b5b3-d70eef23d06f",
   "metadata": {},
   "source": [
    "Zunächst ist es eine gute Vorgehensweise die Daten aus der excel Datei über Pandas einzulesen, weil dies eine geeignete Programmbibliothek für die Programmiersprache Python ist. Dafür muss pandas importiert werden."
   ]
  },
  {
   "cell_type": "code",
   "execution_count": 1,
   "id": "86ac6ba9-a163-402f-b0d8-59d695436202",
   "metadata": {},
   "outputs": [],
   "source": [
    "import pandas as pd"
   ]
  },
  {
   "cell_type": "markdown",
   "id": "a93a25b3-c118-4733-b4ac-7dee667a2179",
   "metadata": {},
   "source": [
    "In einem nächsten Schritt sollte dann die Datei eingelesen werden. Dafür kann diese ins csv-Format umgewandelt werden oder auch direkt im excel Format eingelesen werden. Für mein folgendes Vorgehen, habe ich den relevanten Inhalt der Excel datei als csv gespeichert. Bei der Angabe des Pfades muss darauf geachtet werden, dass bei der Funktion \"Pfad kopieren\" dieser mit Backlash angegeben wird, zum auslesen müssen diese jedoch durch Schrägstriche ersetzt werden, da sonst eine Fehlermeldung auftritt."
   ]
  },
  {
   "cell_type": "code",
   "execution_count": 2,
   "id": "0dc9a948-a0ee-42e0-8001-a757ba1f8b31",
   "metadata": {},
   "outputs": [],
   "source": [
    "df = pd.read_csv(\"C:/Users/Lea Frank/Documents/Studium/5_Semester/Data_Storytelling/projekt_abgabe/daten_jahre.csv\", sep=';')"
   ]
  },
  {
   "cell_type": "markdown",
   "id": "1d0578ca-9ce1-463f-a9fd-0232a9ac2596",
   "metadata": {},
   "source": [
    "Um sich die ersten Zielen der Tabelle anzeigen lassen zu können verwendet man die Funktion \"df.head()\". Dabei wird ersichtlich, dass ein spezielles Trennzeichen gewählt wurde, welches bereits in der vorangegangenen Funktion hinter den Pfad gesetzt wird. Dieser Delimiter wird bei Pandas mit \"sep\" (für seperator) abgekürzt. Im vorliegenden Fall handelt es sich dabei um ein Semikolon."
   ]
  },
  {
   "cell_type": "code",
   "execution_count": 3,
   "id": "b6ea2856-acb0-45d0-8f8c-87d21b2f663c",
   "metadata": {},
   "outputs": [
    {
     "data": {
      "text/html": [
       "<div>\n",
       "<style scoped>\n",
       "    .dataframe tbody tr th:only-of-type {\n",
       "        vertical-align: middle;\n",
       "    }\n",
       "\n",
       "    .dataframe tbody tr th {\n",
       "        vertical-align: top;\n",
       "    }\n",
       "\n",
       "    .dataframe thead th {\n",
       "        text-align: right;\n",
       "    }\n",
       "</style>\n",
       "<table border=\"1\" class=\"dataframe\">\n",
       "  <thead>\n",
       "    <tr style=\"text-align: right;\">\n",
       "      <th></th>\n",
       "      <th>Jahr</th>\n",
       "      <th>Straftat</th>\n",
       "      <th>Anzahl</th>\n",
       "      <th>TOV_bis_unter_20000_Einwohner</th>\n",
       "      <th>TOV_20000_bis_unter_100000</th>\n",
       "      <th>TOV_100000_bis_unter_500000</th>\n",
       "      <th>TOV_500000_und_mehr</th>\n",
       "      <th>TOV_unbekannt</th>\n",
       "      <th>Aufklärung_Anzahl</th>\n",
       "      <th>Aufklärung_in_%_(AQ)</th>\n",
       "      <th>TV_insgesamt</th>\n",
       "      <th>TV_männlich</th>\n",
       "      <th>TV_weiblich</th>\n",
       "      <th>Nd_TV_Anzahl</th>\n",
       "      <th>Nd_TV_Anteil_an_TV_insgesamt_in_%</th>\n",
       "    </tr>\n",
       "  </thead>\n",
       "  <tbody>\n",
       "    <tr>\n",
       "      <th>0</th>\n",
       "      <td>2012</td>\n",
       "      <td>Unterlassene Hilfeleistung § 323c StGB</td>\n",
       "      <td>1903</td>\n",
       "      <td>617</td>\n",
       "      <td>556</td>\n",
       "      <td>279</td>\n",
       "      <td>449</td>\n",
       "      <td>2</td>\n",
       "      <td>1566</td>\n",
       "      <td>82,3</td>\n",
       "      <td>2070</td>\n",
       "      <td>1406</td>\n",
       "      <td>664</td>\n",
       "      <td>187</td>\n",
       "      <td>9,0</td>\n",
       "    </tr>\n",
       "    <tr>\n",
       "      <th>1</th>\n",
       "      <td>2013</td>\n",
       "      <td>Unterlassene Hilfeleistung § 323c StGB</td>\n",
       "      <td>1798</td>\n",
       "      <td>579</td>\n",
       "      <td>500</td>\n",
       "      <td>300</td>\n",
       "      <td>417</td>\n",
       "      <td>2</td>\n",
       "      <td>1484</td>\n",
       "      <td>82,5</td>\n",
       "      <td>1910</td>\n",
       "      <td>1258</td>\n",
       "      <td>652</td>\n",
       "      <td>168</td>\n",
       "      <td>8,8</td>\n",
       "    </tr>\n",
       "    <tr>\n",
       "      <th>2</th>\n",
       "      <td>2014</td>\n",
       "      <td>Unterlassene Hilfeleistung § 323c StGB</td>\n",
       "      <td>1755</td>\n",
       "      <td>587</td>\n",
       "      <td>528</td>\n",
       "      <td>271</td>\n",
       "      <td>359</td>\n",
       "      <td>10</td>\n",
       "      <td>1452</td>\n",
       "      <td>82,7</td>\n",
       "      <td>1848</td>\n",
       "      <td>1183</td>\n",
       "      <td>665</td>\n",
       "      <td>172</td>\n",
       "      <td>9,3</td>\n",
       "    </tr>\n",
       "    <tr>\n",
       "      <th>3</th>\n",
       "      <td>2015</td>\n",
       "      <td>Unterlassene Hilfeleistung § 323c StGB</td>\n",
       "      <td>1722</td>\n",
       "      <td>558</td>\n",
       "      <td>524</td>\n",
       "      <td>264</td>\n",
       "      <td>372</td>\n",
       "      <td>4</td>\n",
       "      <td>1364</td>\n",
       "      <td>79,2</td>\n",
       "      <td>1773</td>\n",
       "      <td>1110</td>\n",
       "      <td>663</td>\n",
       "      <td>168</td>\n",
       "      <td>9,5</td>\n",
       "    </tr>\n",
       "    <tr>\n",
       "      <th>4</th>\n",
       "      <td>2016</td>\n",
       "      <td>Unterlassene Hilfeleistung § 323c StGB</td>\n",
       "      <td>1644</td>\n",
       "      <td>567</td>\n",
       "      <td>458</td>\n",
       "      <td>260</td>\n",
       "      <td>355</td>\n",
       "      <td>4</td>\n",
       "      <td>1295</td>\n",
       "      <td>78,8</td>\n",
       "      <td>1677</td>\n",
       "      <td>1106</td>\n",
       "      <td>571</td>\n",
       "      <td>207</td>\n",
       "      <td>12,3</td>\n",
       "    </tr>\n",
       "  </tbody>\n",
       "</table>\n",
       "</div>"
      ],
      "text/plain": [
       "   Jahr                                Straftat  Anzahl  \\\n",
       "0  2012  Unterlassene Hilfeleistung § 323c StGB    1903   \n",
       "1  2013  Unterlassene Hilfeleistung § 323c StGB    1798   \n",
       "2  2014  Unterlassene Hilfeleistung § 323c StGB    1755   \n",
       "3  2015  Unterlassene Hilfeleistung § 323c StGB    1722   \n",
       "4  2016  Unterlassene Hilfeleistung § 323c StGB    1644   \n",
       "\n",
       "   TOV_bis_unter_20000_Einwohner  TOV_20000_bis_unter_100000  \\\n",
       "0                            617                         556   \n",
       "1                            579                         500   \n",
       "2                            587                         528   \n",
       "3                            558                         524   \n",
       "4                            567                         458   \n",
       "\n",
       "   TOV_100000_bis_unter_500000  TOV_500000_und_mehr  TOV_unbekannt  \\\n",
       "0                          279                  449              2   \n",
       "1                          300                  417              2   \n",
       "2                          271                  359             10   \n",
       "3                          264                  372              4   \n",
       "4                          260                  355              4   \n",
       "\n",
       "   Aufklärung_Anzahl Aufklärung_in_%_(AQ)  TV_insgesamt  TV_männlich  \\\n",
       "0               1566                 82,3          2070         1406   \n",
       "1               1484                 82,5          1910         1258   \n",
       "2               1452                 82,7          1848         1183   \n",
       "3               1364                 79,2          1773         1110   \n",
       "4               1295                 78,8          1677         1106   \n",
       "\n",
       "   TV_weiblich  Nd_TV_Anzahl Nd_TV_Anteil_an_TV_insgesamt_in_%  \n",
       "0          664           187                               9,0  \n",
       "1          652           168                               8,8  \n",
       "2          665           172                               9,3  \n",
       "3          663           168                               9,5  \n",
       "4          571           207                              12,3  "
      ]
     },
     "execution_count": 3,
     "metadata": {},
     "output_type": "execute_result"
    }
   ],
   "source": [
    "df.head()"
   ]
  },
  {
   "cell_type": "code",
   "execution_count": 4,
   "id": "7e54577f-3885-40e7-9073-61550744d461",
   "metadata": {},
   "outputs": [
    {
     "data": {
      "text/html": [
       "<div>\n",
       "<style scoped>\n",
       "    .dataframe tbody tr th:only-of-type {\n",
       "        vertical-align: middle;\n",
       "    }\n",
       "\n",
       "    .dataframe tbody tr th {\n",
       "        vertical-align: top;\n",
       "    }\n",
       "\n",
       "    .dataframe thead th {\n",
       "        text-align: right;\n",
       "    }\n",
       "</style>\n",
       "<table border=\"1\" class=\"dataframe\">\n",
       "  <thead>\n",
       "    <tr style=\"text-align: right;\">\n",
       "      <th></th>\n",
       "      <th>Jahr</th>\n",
       "      <th>Anzahl</th>\n",
       "    </tr>\n",
       "  </thead>\n",
       "  <tbody>\n",
       "    <tr>\n",
       "      <th>0</th>\n",
       "      <td>2012</td>\n",
       "      <td>1903</td>\n",
       "    </tr>\n",
       "    <tr>\n",
       "      <th>1</th>\n",
       "      <td>2013</td>\n",
       "      <td>1798</td>\n",
       "    </tr>\n",
       "    <tr>\n",
       "      <th>2</th>\n",
       "      <td>2014</td>\n",
       "      <td>1755</td>\n",
       "    </tr>\n",
       "    <tr>\n",
       "      <th>3</th>\n",
       "      <td>2015</td>\n",
       "      <td>1722</td>\n",
       "    </tr>\n",
       "    <tr>\n",
       "      <th>4</th>\n",
       "      <td>2016</td>\n",
       "      <td>1644</td>\n",
       "    </tr>\n",
       "    <tr>\n",
       "      <th>5</th>\n",
       "      <td>2017</td>\n",
       "      <td>1811</td>\n",
       "    </tr>\n",
       "    <tr>\n",
       "      <th>6</th>\n",
       "      <td>2018</td>\n",
       "      <td>1943</td>\n",
       "    </tr>\n",
       "    <tr>\n",
       "      <th>7</th>\n",
       "      <td>2019</td>\n",
       "      <td>1924</td>\n",
       "    </tr>\n",
       "    <tr>\n",
       "      <th>8</th>\n",
       "      <td>2020</td>\n",
       "      <td>1889</td>\n",
       "    </tr>\n",
       "  </tbody>\n",
       "</table>\n",
       "</div>"
      ],
      "text/plain": [
       "   Jahr  Anzahl\n",
       "0  2012    1903\n",
       "1  2013    1798\n",
       "2  2014    1755\n",
       "3  2015    1722\n",
       "4  2016    1644\n",
       "5  2017    1811\n",
       "6  2018    1943\n",
       "7  2019    1924\n",
       "8  2020    1889"
      ]
     },
     "execution_count": 4,
     "metadata": {},
     "output_type": "execute_result"
    }
   ],
   "source": [
    "#Beschränkung auf Jahr und Anzahl\n",
    "df[[\"Jahr\", \"Anzahl\"]]"
   ]
  },
  {
   "cell_type": "code",
   "execution_count": 5,
   "id": "ca31b877-6538-4568-b2b3-0e8622e56718",
   "metadata": {},
   "outputs": [],
   "source": [
    "%matplotlib inline\n",
    "import matplotlib.pyplot as plt\n",
    "\n",
    "# Custom colors\n",
    "blue = \"#3F83F4\"\n",
    "blue_dark = \"#062089\"\n",
    "blue_light = \"#8DC0F6\"\n",
    "blue_lighter = \"#BBE4FA\"\n",
    "grey = \"#9C9C9C\"\n",
    "grey_dark = \"#777777\"\n",
    "grey_light = \"#B2B2B2\"\n",
    "orange = \"#EF8733\"\n",
    "colors = [blue, blue_light, blue_lighter, grey_dark, grey, grey_light]"
   ]
  },
  {
   "cell_type": "code",
   "execution_count": 210,
   "id": "9334ff27-841f-4ba7-8181-16333cc95148",
   "metadata": {},
   "outputs": [
    {
     "data": {
      "text/plain": [
       "[(0.0, 2250.0)]"
      ]
     },
     "execution_count": 210,
     "metadata": {},
     "output_type": "execute_result"
    },
    {
     "data": {
      "image/png": "[encoded data removed]",
      "text/plain": [
       "<Figure size 576x504 with 1 Axes>"
      ]
     },
     "metadata": {
      "needs_background": "light"
     },
     "output_type": "display_data"
    }
   ],
   "source": [
    "%matplotlib inline\n",
    "import matplotlib.pyplot as plt\n",
    "import numpy as np\n",
    "import seaborn as sns\n",
    "\n",
    "data=df\n",
    "\n",
    "plt.figure(figsize=(8,7))\n",
    "line = sns.lineplot(data=df, x=\"Jahr\", y=\"Anzahl\")\n",
    "line.set(ylim=(0,2250))"
   ]
  },
  {
   "cell_type": "markdown",
   "id": "d0da7f0a-fd55-4038-95f8-f89e06f446c2",
   "metadata": {},
   "source": [
    "Da die Unterschiede zwischen den Jahren nicht komplett gravierend sind muss man sich auch manchmal mit der Größe der Figur behelfen um hervorzuheben wo der Bereich tatsächlich liegt. Zumal es verpflichtend ist die y-Achse immer mit dem Wert 0 zu beginnen."
   ]
  },
  {
   "cell_type": "markdown",
   "id": "c7d24f17-772a-4fb9-9223-bf6cd2437caa",
   "metadata": {},
   "source": [
    "https://stackoverflow.com/questions/25212986/how-to-set-some-xlim-and-ylim-in-seaborn-lmplot-facetgrid\n",
    "\n",
    "aus dieser Quelle habe ich herausgefunden, wie bei seaborn die y-Achse festgesetzt werden kann."
   ]
  },
  {
   "cell_type": "code",
   "execution_count": 149,
   "id": "7ca0290d-014a-43fa-acb6-453e40141bc0",
   "metadata": {},
   "outputs": [
    {
     "ename": "AttributeError",
     "evalue": "module 'pandas' has no attribute 'plot'",
     "output_type": "error",
     "traceback": [
      "\u001b[1;31m---------------------------------------------------------------------------\u001b[0m",
      "\u001b[1;31mAttributeError\u001b[0m                            Traceback (most recent call last)",
      "\u001b[1;32mC:\\Users\\LEAFRA~1\\AppData\\Local\\Temp/ipykernel_9444/1566331551.py\u001b[0m in \u001b[0;36m<module>\u001b[1;34m\u001b[0m\n\u001b[1;32m----> 1\u001b[1;33m \u001b[0mdf\u001b[0m \u001b[1;33m=\u001b[0m \u001b[0mpd\u001b[0m\u001b[1;33m.\u001b[0m\u001b[0mplot\u001b[0m\u001b[1;33m(\u001b[0m\u001b[0mdf\u001b[0m\u001b[1;33m(\u001b[0m\u001b[1;34m\"Anzahl\"\u001b[0m\u001b[1;33m)\u001b[0m\u001b[1;33m,\u001b[0m \u001b[0mindex\u001b[0m\u001b[1;33m=\u001b[0m\u001b[0mpd\u001b[0m\u001b[1;33m.\u001b[0m\u001b[0mdf\u001b[0m\u001b[1;33m(\u001b[0m\u001b[1;34m\"Jahr\"\u001b[0m\u001b[1;33m)\u001b[0m\u001b[1;33m)\u001b[0m\u001b[1;33m\u001b[0m\u001b[1;33m\u001b[0m\u001b[0m\n\u001b[0m\u001b[0;32m      2\u001b[0m \u001b[1;33m\u001b[0m\u001b[0m\n\u001b[0;32m      3\u001b[0m \u001b[0mdf\u001b[0m \u001b[1;33m=\u001b[0m \u001b[0mnp\u001b[0m\u001b[1;33m.\u001b[0m\u001b[0mexp\u001b[0m\u001b[1;33m(\u001b[0m\u001b[0mdf\u001b[0m\u001b[1;33m.\u001b[0m\u001b[0mcumsum\u001b[0m\u001b[1;33m(\u001b[0m\u001b[1;33m)\u001b[0m\u001b[1;33m)\u001b[0m\u001b[1;33m\u001b[0m\u001b[1;33m\u001b[0m\u001b[0m\n\u001b[0;32m      4\u001b[0m \u001b[1;33m\u001b[0m\u001b[0m\n\u001b[0;32m      5\u001b[0m \u001b[0mdf\u001b[0m\u001b[1;33m.\u001b[0m\u001b[0mplot\u001b[0m\u001b[1;33m(\u001b[0m\u001b[0mlogy\u001b[0m\u001b[1;33m=\u001b[0m\u001b[1;32mTrue\u001b[0m\u001b[1;33m)\u001b[0m\u001b[1;33m\u001b[0m\u001b[1;33m\u001b[0m\u001b[0m\n",
      "\u001b[1;32m~\\anaconda3\\lib\\site-packages\\pandas\\__init__.py\u001b[0m in \u001b[0;36m__getattr__\u001b[1;34m(name)\u001b[0m\n\u001b[0;32m    242\u001b[0m         \u001b[1;32mreturn\u001b[0m \u001b[0m_SparseArray\u001b[0m\u001b[1;33m\u001b[0m\u001b[1;33m\u001b[0m\u001b[0m\n\u001b[0;32m    243\u001b[0m \u001b[1;33m\u001b[0m\u001b[0m\n\u001b[1;32m--> 244\u001b[1;33m     \u001b[1;32mraise\u001b[0m \u001b[0mAttributeError\u001b[0m\u001b[1;33m(\u001b[0m\u001b[1;34mf\"module 'pandas' has no attribute '{name}'\"\u001b[0m\u001b[1;33m)\u001b[0m\u001b[1;33m\u001b[0m\u001b[1;33m\u001b[0m\u001b[0m\n\u001b[0m\u001b[0;32m    245\u001b[0m \u001b[1;33m\u001b[0m\u001b[0m\n\u001b[0;32m    246\u001b[0m \u001b[1;33m\u001b[0m\u001b[0m\n",
      "\u001b[1;31mAttributeError\u001b[0m: module 'pandas' has no attribute 'plot'"
     ]
    }
   ],
   "source": [
    "df = pd.plot(df(\"Anzahl\"), index=pd.df(\"Jahr\"))\n",
    "\n",
    "df = np.exp(df.cumsum())\n",
    "\n",
    "df.plot(logy=True)"
   ]
  },
  {
   "cell_type": "code",
   "execution_count": 151,
   "id": "165f4a5f-f2e9-4720-9659-f59e8b29f3aa",
   "metadata": {},
   "outputs": [
    {
     "data": {
      "image/png": "[encoded data removed]",
      "text/plain": [
       "<Figure size 576x360 with 1 Axes>"
      ]
     },
     "metadata": {
      "needs_background": "light"
     },
     "output_type": "display_data"
    }
   ],
   "source": [
    "import pandas as pd \n",
    "import matplotlib.pyplot as plt \n",
    "\n",
    "data=df\n",
    "\n",
    "df=pd.DataFrame(data,columns=[\"Jahr\",\"Anzahl\"])\n",
    "df.plot(x=\"Jahr\", y=[\"Anzahl\"], kind=\"bar\",figsize=(8,5), ylim=(0,3500))\n",
    "plt.ylabel(\"Anzahl\")\n",
    "plt.show()"
   ]
  },
  {
   "cell_type": "code",
   "execution_count": 84,
   "id": "e0694f0a-5d36-44d0-b80b-c6ea9ad92ea5",
   "metadata": {},
   "outputs": [
    {
     "data": {
      "image/png": "[encoded data removed]",
      "text/plain": [
       "<Figure size 360x360 with 1 Axes>"
      ]
     },
     "metadata": {
      "needs_background": "light"
     },
     "output_type": "display_data"
    }
   ],
   "source": [
    "# Bar plots Jahr und Anzahl\n",
    "import seaborn as sns\n",
    "sns.catplot(x=\"Jahr\", y = \"Anzahl\", palette=colors, data=df)\n",
    "\n",
    "plt.title(\"Bar chart\")\n",
    "plt.xlabel(\"Jahr\")\n",
    "\n",
    "plt.show();"
   ]
  },
  {
   "cell_type": "code",
   "execution_count": null,
   "id": "464aeec6-fc11-40bf-a756-0ec4d70cbf1d",
   "metadata": {},
   "outputs": [],
   "source": [
    "# Tabelle für Tatverdächtige im Laufe der Zeit\n",
    "pd.crosstab(df.application_type\t, df.homeownership,  margins=True)"
   ]
  },
  {
   "cell_type": "code",
   "execution_count": 44,
   "id": "5b701ace-114b-4569-b230-210ace96d82e",
   "metadata": {},
   "outputs": [
    {
     "ename": "AttributeError",
     "evalue": "'SeriesGroupBy' object has no attribute 'to_frame'",
     "output_type": "error",
     "traceback": [
      "\u001b[1;31m---------------------------------------------------------------------------\u001b[0m",
      "\u001b[1;31mAttributeError\u001b[0m                            Traceback (most recent call last)",
      "\u001b[1;32mC:\\Users\\LEAFRA~1\\AppData\\Local\\Temp/ipykernel_9444/1610894122.py\u001b[0m in \u001b[0;36m<module>\u001b[1;34m\u001b[0m\n\u001b[1;32m----> 1\u001b[1;33m \u001b[0mmyframe\u001b[0m \u001b[1;33m=\u001b[0m \u001b[0mdf\u001b[0m\u001b[1;33m.\u001b[0m\u001b[0mgroupby\u001b[0m\u001b[1;33m(\u001b[0m\u001b[1;34m'Jahr'\u001b[0m\u001b[1;33m)\u001b[0m\u001b[1;33m[\u001b[0m\u001b[1;34m'Anzahl'\u001b[0m\u001b[1;33m]\u001b[0m\u001b[1;33m.\u001b[0m\u001b[0mto_frame\u001b[0m\u001b[1;33m(\u001b[0m\u001b[1;33m)\u001b[0m\u001b[1;33m\u001b[0m\u001b[1;33m\u001b[0m\u001b[0m\n\u001b[0m\u001b[0;32m      2\u001b[0m \u001b[0mmyframe\u001b[0m\u001b[1;33m.\u001b[0m\u001b[0mplot\u001b[0m\u001b[1;33m(\u001b[0m\u001b[0mylim\u001b[0m\u001b[1;33m=\u001b[0m\u001b[1;33m(\u001b[0m\u001b[1;36m0\u001b[0m\u001b[1;33m,\u001b[0m\u001b[1;36m3000\u001b[0m\u001b[1;33m)\u001b[0m\u001b[1;33m)\u001b[0m\u001b[1;33m\u001b[0m\u001b[1;33m\u001b[0m\u001b[0m\n\u001b[0;32m      3\u001b[0m \u001b[1;31m# ToDo Grenzgewinn in Pandas ausrechnen\u001b[0m\u001b[1;33m\u001b[0m\u001b[1;33m\u001b[0m\u001b[1;33m\u001b[0m\u001b[0m\n",
      "\u001b[1;32m~\\anaconda3\\lib\\site-packages\\pandas\\core\\groupby\\groupby.py\u001b[0m in \u001b[0;36m__getattr__\u001b[1;34m(self, attr)\u001b[0m\n\u001b[0;32m    909\u001b[0m             \u001b[1;32mreturn\u001b[0m \u001b[0mself\u001b[0m\u001b[1;33m[\u001b[0m\u001b[0mattr\u001b[0m\u001b[1;33m]\u001b[0m\u001b[1;33m\u001b[0m\u001b[1;33m\u001b[0m\u001b[0m\n\u001b[0;32m    910\u001b[0m \u001b[1;33m\u001b[0m\u001b[0m\n\u001b[1;32m--> 911\u001b[1;33m         raise AttributeError(\n\u001b[0m\u001b[0;32m    912\u001b[0m             \u001b[1;34mf\"'{type(self).__name__}' object has no attribute '{attr}'\"\u001b[0m\u001b[1;33m\u001b[0m\u001b[1;33m\u001b[0m\u001b[0m\n\u001b[0;32m    913\u001b[0m         )\n",
      "\u001b[1;31mAttributeError\u001b[0m: 'SeriesGroupBy' object has no attribute 'to_frame'"
     ]
    }
   ],
   "source": [
    "myframe = df.groupby('Jahr')['Anzahl'].to_frame()\n",
    "myframe.plot(ylim=(0,3000))\n",
    "# ToDo Grenzgewinn in Pandas ausrechnen"
   ]
  },
  {
   "cell_type": "code",
   "execution_count": null,
   "id": "fff0642d-ef10-421d-bc66-8807ceb2662e",
   "metadata": {},
   "outputs": [],
   "source": [
    "%matplotlib inline\n",
    "import seaborn as sns\n",
    "import matplotlib.pyplot as plt\n",
    "import numpy as np\n",
    "\n",
    "# Seaborn style\n",
    "sns.set_theme(style=\"ticks\", color_codes=True)\n",
    "\n",
    "# Custom colors\n",
    "blue = \"#3F83F4\"\n",
    "blue_dark = \"#062089\"\n",
    "blue_light = \"#8DC0F6\"\n",
    "blue_lighter = \"#BBE4FA\"\n",
    "grey = \"#9C9C9C\"\n",
    "grey_dark = \"#777777\"\n",
    "grey_light = \"#B2B2B2\"\n",
    "orange = \"#EF8733\"\n",
    "colors_blue = [blue_dark, blue, blue_light]"
   ]
  },
  {
   "cell_type": "code",
   "execution_count": null,
   "id": "e48d8057-543e-42a8-9c12-0a28349bd52f",
   "metadata": {},
   "outputs": [],
   "source": [
    "# Dodged bar plot\n",
    "sns.catplot(x=\"TV_insgesamt\", hue=\"Geschlecht\", kind = \"count\", \n",
    "            palette=colors_blue, data=df)\n",
    "\n",
    "plt.show();"
   ]
  },
  {
   "cell_type": "markdown",
   "id": "553b1926-21c1-42cf-99f3-649b393e0907",
   "metadata": {},
   "source": [
    "# Stacked bar chart"
   ]
  },
  {
   "cell_type": "code",
   "execution_count": null,
   "id": "20b7c989-6df6-44bb-836f-b5d11f83aa81",
   "metadata": {},
   "outputs": [],
   "source": [
    "# Stacked bar chart\n",
    "# Data\n",
    "joint = df.homeownership[df.application_type==\"joint\"].value_counts() \n",
    "individual = df.homeownership[df.application_type==\"individual\"].value_counts() \n",
    "labels = list(df['homeownership'].value_counts().index)\n",
    "\n",
    "# Width of the bars: can also be len(x) sequence\n",
    "width = 0.85\n",
    "\n",
    "# Create a figure containing a single axes.\n",
    "fig, ax = plt.subplots()\n",
    "\n",
    "# Plot data on the axes\n",
    "ax.bar(labels, joint, width, bottom=individual, color=blue,label='joint')\n",
    "ax.bar(labels, individual, width, color=grey, label='individual')\n",
    "\n",
    "# Define labels\n",
    "ax.set_ylabel('Count')\n",
    "fig.suptitle('Stacked bar chart', fontsize=14, fontweight='bold')\n",
    "ax.set_title('Homeownership')\n",
    "\n",
    "ax.legend()\n",
    "\n",
    "# Hide the right and top spines\n",
    "ax.spines['right'].set_visible(False)\n",
    "ax.spines['top'].set_visible(False)\n",
    "\n",
    "# Only show ticks on the left and bottom spines\n",
    "ax.yaxis.set_ticks_position('left')\n",
    "ax.xaxis.set_ticks_position('bottom')\n",
    "\n",
    "plt.show();\n",
    "\n",
    "#fig.savefig('img/stacked-bar-chart.png')\n",
    "#plt.close(fig) "
   ]
  },
  {
   "cell_type": "markdown",
   "id": "565853c8-c576-43ee-b479-112474bbe4d7",
   "metadata": {},
   "source": [
    "# Standardized bar plots"
   ]
  },
  {
   "cell_type": "code",
   "execution_count": null,
   "id": "2855c524-6e9e-407f-ac31-ffcac7f29aad",
   "metadata": {},
   "outputs": [],
   "source": [
    "from matplotlib import rc\n",
    "# Standardized bar plot\n",
    "# Data\n",
    "joint = df.homeownership[df.application_type==\"joint\"].value_counts() \n",
    "individual = df.homeownership[df.application_type==\"individual\"].value_counts() \n",
    "labels = list(df['homeownership'].value_counts().index)\n",
    "r = [0,1,2]\n",
    "# From raw value to percentage\n",
    "totals = [i+j for i,j in zip(joint, individual)]\n",
    "joint_bar = [i / j * 100 for i,j in zip(joint, totals)]\n",
    "individual_bar = [i / j * 100 for i,j in zip(individual, totals)]\n",
    "# plot\n",
    "barWidth = 0.85\n",
    "plt.bar(r, individual_bar, color=grey, edgecolor='white', width=barWidth, label=\"individual\")\n",
    "plt.bar(r, joint_bar, bottom=individual_bar, color=blue, edgecolor='white', width=barWidth, label=\"joint\")\n",
    "# Custom axis\n",
    "plt.xticks(r, labels)\n",
    "plt.xlabel(\"Homeownership\")\n",
    "plt.ylabel(\"Proportion\")\n",
    "# Add a legend and title\n",
    "plt.legend(loc='upper left', bbox_to_anchor=(1,1), ncol=1)\n",
    "plt.title(\"Standardized bar chart\") \n",
    "# Save graphic\n",
    "plt.savefig('img/standard-bar-chart.png')\n",
    "plt.close(fig) \n"
   ]
  },
  {
   "cell_type": "markdown",
   "id": "62d57063-2d7c-4d73-97c0-a1cad1ecfc57",
   "metadata": {},
   "source": [
    "Standardized bar plots bieten sich bei meiner Art der Untersuchung und Präsentation nicht an, weil die Mengenunterschiede nicht so eindeutig sind, wie bei den stacked bar charts.  "
   ]
  },
  {
   "cell_type": "markdown",
   "id": "4cf9eb48-d6aa-4331-83e3-f46c81d94bc0",
   "metadata": {},
   "source": [
    "Mosaic plots habe ich gar nicht erst getestet, da sich diese nicht eignen. "
   ]
  },
  {
   "cell_type": "code",
   "execution_count": 98,
   "id": "65e34e7d-d692-4df2-a8d7-1f7d0034f0c7",
   "metadata": {},
   "outputs": [],
   "source": [
    "%matplotlib inline\n",
    "import matplotlib.pyplot as plt\n",
    "\n",
    "# Custom colors\n",
    "blue = \"#3F83F4\"\n",
    "blue_dark = \"#062089\"\n",
    "blue_light = \"#8DC0F6\"\n",
    "blue_lighter = \"#BBE4FA\"\n",
    "grey = \"#9C9C9C\"\n",
    "grey_dark = \"#777777\"\n",
    "grey_light = \"#B2B2B2\"\n",
    "orange = \"#EF8733\"\n",
    "colors = [blue, blue_light, blue_lighter, grey_dark, grey, grey_light]\n",
    "colorsTV1 = [blue_light]\n",
    "colorsTV2 = [blue_lighter]"
   ]
  },
  {
   "cell_type": "code",
   "execution_count": 156,
   "id": "1ceeea5e-0ba1-4cb7-864a-e3c414187218",
   "metadata": {},
   "outputs": [
    {
     "data": {
      "image/png": "[encoded data removed]",
      "text/plain": [
       "<Figure size 576x360 with 1 Axes>"
      ]
     },
     "metadata": {
      "needs_background": "light"
     },
     "output_type": "display_data"
    }
   ],
   "source": [
    "import pandas as pd \n",
    "import matplotlib.pyplot as plt \n",
    "\n",
    "data=df\n",
    "\n",
    "df=pd.DataFrame(data,columns=[\"Jahr\",\"TV_insgesamt\",\"TV_männlich\",\"TV_weiblich\"])\n",
    "df.plot(x=\"Jahr\", y=[\"TV_insgesamt\",\"TV_männlich\",\"TV_weiblich\"], kind=\"bar\",figsize=(8,5), ylim=(0,3500))\n",
    "plt.show()"
   ]
  },
  {
   "cell_type": "markdown",
   "id": "de2515e0-e724-4b4a-afa4-b6297344d2a9",
   "metadata": {},
   "source": [
    "Weder die Skalierung noch die Anordnung sind aussagekräftig, da die Unterscheidungen nicht optimal hervorgehoben werden."
   ]
  },
  {
   "cell_type": "code",
   "execution_count": 158,
   "id": "6c8bc744-8e52-4455-b11d-f3829b5dce9e",
   "metadata": {},
   "outputs": [
    {
     "data": {
      "image/png": "[encoded data removed]",
      "text/plain": [
       "<Figure size 576x360 with 1 Axes>"
      ]
     },
     "metadata": {
      "needs_background": "light"
     },
     "output_type": "display_data"
    }
   ],
   "source": [
    "import pandas as pd \n",
    "import matplotlib.pyplot as plt \n",
    "\n",
    "data=df\n",
    "\n",
    "df=pd.DataFrame(data,columns=[\"Jahr\",\"TV_männlich\",\"TV_weiblich\"])\n",
    "df.plot(x=\"Jahr\", y=[\"TV_männlich\",\"TV_weiblich\"], kind=\"bar\",figsize=(8,5), ylim=(0,2000))\n",
    "plt.show()"
   ]
  },
  {
   "cell_type": "markdown",
   "id": "4ceccc9a-9fd3-4a2f-924e-0807527d47d2",
   "metadata": {},
   "source": [
    "Bei dieser Art der Anzeige kommen die Unterschiede zwischen der Anzahl der weiblichen und männlichen Tatverdächtigen gut zur Geltung. "
   ]
  },
  {
   "cell_type": "code",
   "execution_count": 160,
   "id": "0a390fcf-473e-4fa9-a48d-922f04bb6551",
   "metadata": {},
   "outputs": [
    {
     "data": {
      "image/png": "[encoded data removed]",
      "text/plain": [
       "<Figure size 576x360 with 1 Axes>"
      ]
     },
     "metadata": {
      "needs_background": "light"
     },
     "output_type": "display_data"
    }
   ],
   "source": [
    "import pandas as pd \n",
    "import matplotlib.pyplot as plt \n",
    "\n",
    "data=df\n",
    "\n",
    "df=pd.DataFrame(data,columns=[\"Jahr\",\"TV_männlich\",\"TV_weiblich\"])\n",
    "df.plot.barh(x=\"Jahr\", y=[\"TV_männlich\",\"TV_weiblich\"],figsize=(8,5), xlim=(0,2000))\n",
    "plt.show()"
   ]
  },
  {
   "cell_type": "code",
   "execution_count": 166,
   "id": "be42e285-12c3-4d71-ab63-ca715720755a",
   "metadata": {},
   "outputs": [
    {
     "data": {
      "image/png": "[encoded data removed]",
      "text/plain": [
       "<Figure size 576x360 with 1 Axes>"
      ]
     },
     "metadata": {
      "needs_background": "light"
     },
     "output_type": "display_data"
    }
   ],
   "source": [
    "\n",
    "import pandas as pd \n",
    "import matplotlib.pyplot as plt \n",
    "\n",
    "data=df\n",
    "\n",
    "df=pd.DataFrame(data,columns=[\"Jahr\",\"TV_männlich\",\"TV_weiblich\"])\n",
    "df.plot.barh(x=\"Jahr\", y=[\"TV_männlich\",\"TV_weiblich\"],figsize=(8,5), xlim=(0,2250), stacked=True)\n",
    "plt.show()"
   ]
  },
  {
   "cell_type": "code",
   "execution_count": 170,
   "id": "a4fde4b8-7c51-458c-b353-23c6f07b81ec",
   "metadata": {},
   "outputs": [
    {
     "data": {
      "image/png": "[encoded data removed]",
      "text/plain": [
       "<Figure size 576x360 with 1 Axes>"
      ]
     },
     "metadata": {
      "needs_background": "light"
     },
     "output_type": "display_data"
    }
   ],
   "source": [
    "\n",
    "import pandas as pd \n",
    "import matplotlib.pyplot as plt \n",
    "\n",
    "data=df\n",
    "\n",
    "df=pd.DataFrame(data,columns=[\"Jahr\",\"TV_männlich\",\"TV_weiblich\"])\n",
    "df.plot.bar(x=\"Jahr\", y=[\"TV_männlich\",\"TV_weiblich\"],figsize=(8,5), ylim=(0,2250), stacked=True)\n",
    "plt.show()"
   ]
  },
  {
   "cell_type": "code",
   "execution_count": null,
   "id": "ce392ba1-be26-438e-9371-0faa5712915a",
   "metadata": {},
   "outputs": [],
   "source": []
  }
 ],
 "metadata": {
  "kernelspec": {
   "display_name": "Python 3 (ipykernel)",
   "language": "python",
   "name": "python3"
  },
  "language_info": {
   "codemirror_mode": {
    "name": "ipython",
    "version": 3
   },
   "file_extension": ".py",
   "mimetype": "text/x-python",
   "name": "python",
   "nbconvert_exporter": "python",
   "pygments_lexer": "ipython3",
   "version": "3.8.11"
  }
 },
 "nbformat": 4,
 "nbformat_minor": 5
}
