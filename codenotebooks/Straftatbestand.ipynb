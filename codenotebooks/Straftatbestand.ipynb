{
 "cells": [
  {
   "cell_type": "markdown",
   "id": "1b5b44cd-3524-43ed-a19a-be80a561dc92",
   "metadata": {},
   "source": [
    "# Straftatbestand der Unterlassenen Hilfeleistung und Behinderung hilfeleistender Personen"
   ]
  },
  {
   "cell_type": "markdown",
   "id": "bde901db-4e71-4932-9f6b-1a36bbe2f2cb",
   "metadata": {},
   "source": [
    "Der Straftatbestand der unterlassenen Hilfeleistung und Behinderung hilfeleistender Personen ist gemäß § 323c StGB geregelt.  "
   ]
  },
  {
   "cell_type": "markdown",
   "id": "c44e2d9d-d3d8-48c0-8229-d736e915a462",
   "metadata": {},
   "source": [
    "### Der genaue Wortlaut lautet folgendermaßen:"
   ]
  },
  {
   "cell_type": "markdown",
   "id": "9b0e2e6c-c4a0-40c9-9599-a5c384814112",
   "metadata": {},
   "source": [
    "\n",
    "(1) Wer bei Unglücksfällen oder gemeiner Gefahr oder Not nicht Hilfe leistet, obwohl dies erforderlich und ihm den Umständen nach zuzumuten, insbesondere ohne erhebliche eigene Gefahr und ohne Verletzung anderer wichtiger Pflichten möglich ist, wird mit Freiheitsstrafe bis zu einem Jahr oder mit Geldstrafe bestraft.\n",
    "\n",
    "(2) Ebenso wird bestraft, wer in diesen Situationen eine Person behindert, die einem Dritten Hilfe leistet oder leisten will."
   ]
  },
  {
   "cell_type": "markdown",
   "id": "0f4c90dd-c60a-4cd4-8f5f-2f19ff2bc9e3",
   "metadata": {},
   "source": [
    "Dementsprechend macht sich wegen unterlassener Hilfeleistung strafbar wer keine Hilfe geleistet hat, obwohl dies ihm möglich war und seinen Fähigkeiten entsprach. So kann zum Beispiel ein Nichtschwimmer nicht gezwungen werden jemanden, der ertrinkt durch einen Sprung ins Wasser zu retten. Da dabei eine Gefahr für Leib und Leben des Rettenden entsteht und für diesen selbst eine Notlage aus der er gerettet werden muss entsteht. Die Hilfeleistung in diesem Fall könnte durch das Verständigen des Rettungsdienstes oder das Herbeiholen einer Person, die dazu in der Lage ist die andere Person aus ihrer Notlage zu retten."
   ]
  },
  {
   "cell_type": "markdown",
   "id": "4978f51c-a6ac-4922-84a0-f32a23fd3b5b",
   "metadata": {},
   "source": [
    "Gemäß Absatz II verstößt es ebenfalls gegen das Gesetz, wenn man verhindert, dass eine andere Person Hilfeleisten kann. Zum Beispiel, wenn man die Rettungsgasse versperrt oder eine Rettungskraft aktiv daran hindert einer verletzten Person zu helfen. "
   ]
  },
  {
   "cell_type": "markdown",
   "id": "0951cc4e-a384-4acb-9947-746237124089",
   "metadata": {},
   "source": [
    "Die in Absatz II geregelte Behinderung hilfeleistender Personen wurde mit Beschluss des Bundestag am 23. Mai 2017 \"zur Stärkung des Schutzes von Vollzugsbeamten und Rettungskräften\" in das Strafgesetzbuch aufgenommen. Die Erweiterung des Gesetzes wurde hauptsächlich wegen des erhöhten aufkommens von \"Gaffern\", die durch ihr Verhalten dafür gesorgt haben, dass Rettungskräfte beim Ausüben ihrer Tätigkeit gestört wurden.\n",
    "\n",
    "\n",
    "Quelle: http://www.bgbl.de/xaver/bgbl/start.xav?startbk=Bundesanzeiger_BGBl&jumpTo=bgbl117s1226.pdf"
   ]
  },
  {
   "cell_type": "markdown",
   "id": "1adb3ea0-3962-48d9-8bb9-0cc1584ab003",
   "metadata": {},
   "source": [
    "Bei unterlassener Hilfeleistung handelt es sich um ein Unterlassungsdelikt. Die Vorschrift wurde entwickelt, um die Solidarität zwischen Menschen in einer Notlage zu fördern. Es handelt sich um ein echtes Unterlassungsdelikt, da die Straftat von jedermann und nicht nur von einem Garanten begangen werden kann. "
   ]
  },
  {
   "cell_type": "markdown",
   "id": "531be2a1-0140-43cb-8618-0560169693ee",
   "metadata": {},
   "source": [
    "Die Garantenstellung ist in § 13 StGB geregelt. Dieser lautet folgendermaßen:\n",
    "\n",
    "Wer es unterläßt, einen Erfolg abzuwenden, der zum Tatbestand eines Strafgesetzes gehört, ist nach diesem Gesetz nur dann strafbar, wenn er rechtlich dafür einzustehen hat, daß der Erfolg nicht eintritt, und wenn das Unterlassen der Verwirklichung des gesetzlichen Tatbestandes durch ein Tun entspricht.\n",
    "\n",
    "Dementsprechend verletzt seine Garantenpflicht, wer den Erfolg eines Straftatbestandes nicht verhindert hat, obwohl er nach dem Gesetz dazu verpflichtet war und es ihm möglich war."
   ]
  },
  {
   "cell_type": "markdown",
   "id": "8144046d-189e-4206-9cd5-584b262f5b1e",
   "metadata": {},
   "source": [
    "Für die Erfüllung des Straftatbestandes müsste zunächst ein sogenannter \"**Unglücksfalls**\" vorliegen. \"Ein Unglücksfall ist ein plötzlich eintretendes Ereignis, das erhebliche Gefahren für Personen oder bedeutende Sachwerte mit sich bringt.\" (Quelle: Rengier, *Strafrecht Besonderer Teil II*, 42 Rn. 3.)"
   ]
  },
  {
   "cell_type": "markdown",
   "id": "2a4db8d4-1f97-4175-ae7e-8434d0fcc728",
   "metadata": {},
   "source": [
    "Ein Beispiel:\n",
    "    Der nach einem Verkehrsunfall Schwerverletzte, auch wenn er - wie sich später herausstellt - nicht mehr zu retten war."
   ]
  },
  {
   "cell_type": "markdown",
   "id": "93b00b7b-8782-49fe-8b1e-442ccbf35651",
   "metadata": {},
   "source": [
    "Dieser Ansatz, bei dem auch nachträgliche Ereignisse einbezogen werden, wird als **ex-post-Beurteilung** bezeichnet."
   ]
  },
  {
   "cell_type": "markdown",
   "id": "c9fd2373-f441-4cc8-8a6e-61f9ab97ad2a",
   "metadata": {},
   "source": [
    "Des Weiteren können eine **gemeine Gefahr** und/oder eine **gemeine Not** vorliegen.\n",
    "\"Gemeine Gefahr ist ein Zustand, bei dem die Möglichkeit eines erheblichen Schadens für unbestimmt viele Personen (an Leib oder Leben oder an bedeutenden Sachwerten) nahe liegt.\" (Quelle: Rengier, *Strafrecht Besonderer Teil II*, 42 Rn. 7.)"
   ]
  },
  {
   "cell_type": "markdown",
   "id": "74bc8087-14c6-431c-b115-050d91fb578f",
   "metadata": {},
   "source": [
    "Ein paar Beispiele für gemeine Gefahren sind Brände, gelockerte Schienen, Naturkatastrophen und ähnliches."
   ]
  },
  {
   "cell_type": "markdown",
   "id": "613739fa-3650-454f-8ac9-650a6814887a",
   "metadata": {},
   "source": [
    "\"Die gemeine Not überschneidet sich mit dem Begriff der gemeinen Gefahr und wird üblicherweise als eine die Allgemeinheit betreffende Notlage umschrieben.\" (Quelle: Rengier, *Strafrecht Besonderer Teil II*, 42 Rn. 7.)"
   ]
  },
  {
   "cell_type": "markdown",
   "id": "65c4988b-ad13-4cb6-be7e-d83b7f7d153c",
   "metadata": {},
   "source": [
    "Tathandlung ist das Unterlassen der objektiv ex ante erforderlichen und nach den Umständen zumutbaren Hilfe. Dabei ist insbesondere die Erforderlichkeit bedeutend nur der Täter, der die Gelegenheit hatte zu helfen und diese verstreichen lies wird bestraft, ob die Hilfe im Nachhinein vergebens war spielt keine Rolle. Keine Erforderlichkeit besteht, wenn das Opfer sich noch selbst helfen kann, eine andere Person bereits Hilfe leistet oder der Tod bereits eingetreten ist.\n",
    "(Quelle: Rengier, *Strafrecht Besonderer Teil II*, 42 Rn. 8ff.)"
   ]
  },
  {
   "cell_type": "markdown",
   "id": "ebd2cab7-d2ee-4dc7-9797-fe8911ae222b",
   "metadata": {},
   "source": [
    "Des Weiteren muss der Täter die Möglichkeit des Handelns gehabt habe und diese muss zumutbar gewesen sein. In diesem Zusammenhang trifft das zu Beginn genannte Beispiel des Nichtschwimmers eine wichtige Rolle. "
   ]
  },
  {
   "cell_type": "markdown",
   "id": "cf67fc6f-94e7-4e75-bd6e-327b10919650",
   "metadata": {},
   "source": [
    "Ist der Tatbestand erfüllt, ist fraglich zu welchem Zeitpunkt die Tat vollendet ist und inwieweit die Möglichkeit der tätigen Reue besteht. Die herrschende Meinung besagt, dass die Hilfe unverzüglich, das heißt sofort, geleistet werden muss. Tätige Reue ist möglich, wenn der Täter verzögert noch den Rettungsdienst verständigt oder selbst Hilfe leistet, allerdings nur wenn es sich dabei um wirksame Hilfeleistung handelt. (Quelle: Rengier, *Strafrecht Besonderer Teil II*, 42 Rn. 19f.)  "
   ]
  },
  {
   "cell_type": "markdown",
   "id": "a7da976b-4699-47c1-aff1-bf3124227874",
   "metadata": {},
   "source": [
    "Der Tatbestand tritt logischerweise bei vorsätzlichen Begehungsdelikten wie Mord, Totschlag und Körperverletzung im Wege der Gesetzeskonkurrenz zurück. (Quelle: Rengier, *Strafrecht Besonderer Teil II*, 42 Rn. 21f.)"
   ]
  },
  {
   "cell_type": "markdown",
   "id": "134f8ab7-3702-45d0-8c4a-b8081797a46f",
   "metadata": {},
   "source": [
    "Kontrovers wird die Einordnung bei Selbsttötungen in Bezug auf diesen Straftatbestand behandelt, da es fraglich ist, ob es sich dabi um einen \"Unglücksfall handelt. Dabei ist insbesondere die Garantenstellung zu beachten, weil es häufig schwierig ist zu erkennen, ob es sich tatsächlich um eine freiverantwortliche Selbsttötungsentscheidunghandelt. Dementsprechend kann man nicht ausschließlich aufgrund einer Selbsttötung das Vorliegen einer unterlassenen Hilfeleistung ausschließen.\n",
    "\n",
    "(Quelle: Rengier, *Strafrecht Besonderer Teil II*, 8 Rn. 18ff.)"
   ]
  },
  {
   "cell_type": "markdown",
   "id": "593e2f77-0c0b-4f7e-952d-08e743ef59a1",
   "metadata": {},
   "source": [
    "In Bezug auf Absatz II ist es wichtig zu wissen, dass unter der Rettungskraft nicht nur ausgebildete Rettungskräfte, sondern jede hilfeleistende Person verstanden wird."
   ]
  },
  {
   "cell_type": "markdown",
   "id": "88343414-9fc1-4977-b34c-95e3b783df9f",
   "metadata": {},
   "source": [
    "Beispiele sind: Das Parken in einer Feuerwehreinfahrt, Nichtbeiseitegehen, Einschüchtern und Beschimpfen hilfeleistender Personen, \"Gaffen\" und ähnliches."
   ]
  },
  {
   "cell_type": "markdown",
   "id": "4334c2b2-878e-4bfc-ac91-59121fb82a70",
   "metadata": {},
   "source": [
    "Bei der Behinderung hilfeleistender Personen, von der der Täter aus eigenem Willen verzögert zurücktritt besteht nur eine Strafbarkeit, wenn nachgewiesen werden kann, dass das Opfer aufgrund der entstandenen Verzögerung gestorben ist und unter anderen Umständen überlebt hätte. Dies kann allerdings nur in sehr seltenen Fällen nachgewiesen werden.\n",
    "\n",
    "Preuß, zis online 6/2019 S. 345ff.: https://zis-online.com/dat/artikel/2019_6_1298.pdf"
   ]
  },
  {
   "cell_type": "code",
   "execution_count": null,
   "id": "6e495cd0-6e56-4306-a5ea-97946cfb8e39",
   "metadata": {},
   "outputs": [],
   "source": []
  }
 ],
 "metadata": {
  "kernelspec": {
   "display_name": "Python 3 (ipykernel)",
   "language": "python",
   "name": "python3"
  },
  "language_info": {
   "codemirror_mode": {
    "name": "ipython",
    "version": 3
   },
   "file_extension": ".py",
   "mimetype": "text/x-python",
   "name": "python",
   "nbconvert_exporter": "python",
   "pygments_lexer": "ipython3",
   "version": "3.8.11"
  }
 },
 "nbformat": 4,
 "nbformat_minor": 5
}
